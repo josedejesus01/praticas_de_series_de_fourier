{
 "cells": [
  {
   "cell_type": "code",
   "execution_count": 4,
   "metadata": {},
   "outputs": [],
   "source": [
    "from IPython.display import Image\n",
    "import numpy as np\n",
    "from scipy import integrate\n",
    "import matplotlib.pyplot as plt\n",
    "import scipy as sp\n",
    "import sympy as sym\n"
   ]
  },
  {
   "cell_type": "code",
   "execution_count": 5,
   "metadata": {},
   "outputs": [],
   "source": [
    "n = sym.Symbol('n')\n",
    "t = sym.Symbol('t')\n"
   ]
  },
  {
   "cell_type": "code",
   "execution_count": 6,
   "metadata": {},
   "outputs": [],
   "source": [
    "Tmin = 0\n",
    "Tmax = 2*np.pi\n",
    "\n",
    "T=Tmax-Tmin\n",
    "w = 2*np.pi/T\n",
    "\n",
    "# ft es una función simbólica\n",
    "ft=t"
   ]
  },
  {
   "cell_type": "code",
   "execution_count": 7,
   "metadata": {},
   "outputs": [
    {
     "name": "stdout",
     "output_type": "stream",
     "text": [
      "a0 = \n",
      "6.28318530717959\n",
      "an = \n",
      "⎧0.318309886183791⋅(6.28318530717959⋅n⋅sin(6.28318530717959⋅n) + 1.0⋅cos(6.283\n",
      "⎪─────────────────────────────────────────────────────────────────────────────\n",
      "⎪                                                 2                           \n",
      "⎨                                                n                            \n",
      "⎪                                                                             \n",
      "⎪                                         6.28318530717959                    \n",
      "⎩                                                                             \n",
      "\n",
      "18530717959⋅n) - 1.0)                            \n",
      "─────────────────────  for n > -∞ ∧ n < ∞ ∧ n ≠ 0\n",
      "                                                 \n",
      "                                                 \n",
      "                                                 \n",
      "                               otherwise         \n",
      "                                                 \n",
      "bn = \n",
      "⎧0.318309886183791⋅(-6.28318530717959⋅n⋅cos(6.28318530717959⋅n) + 1.0⋅sin(6.28\n",
      "⎪─────────────────────────────────────────────────────────────────────────────\n",
      "⎪                                               2                             \n",
      "⎨                                              n                              \n",
      "⎪                                                                             \n",
      "⎪                                              0                              \n",
      "⎩                                                                             \n",
      "\n",
      "318530717959⋅n))                            \n",
      "────────────────  for n > -∞ ∧ n < ∞ ∧ n ≠ 0\n",
      "                                            \n",
      "                                            \n",
      "                                            \n",
      "                          otherwise         \n",
      "                                            \n"
     ]
    }
   ],
   "source": [
    "# Calculamos la integral para a0\n",
    "f_integral = ft\n",
    "a0 = (2/T)*sym.integrate(f_integral,(t,Tmin,Tmax))\n",
    "print(\"a0 = \")\n",
    "sym.pprint(a0)\n",
    "\n",
    "# Calculamos la integral para an\n",
    "f_integral = ft*sym.cos(n*w*t)\n",
    "an = (2/T)*sym.integrate(f_integral,(t,Tmin,Tmax))\n",
    "an = sym.simplify(an)\n",
    "print(\"an = \")\n",
    "sym.pprint(an)\n",
    "\n",
    "# Calculamos la integral para bn\n",
    "f_integral = ft*sym.sin(n*w*t)\n",
    "bn = (2/T)*sym.integrate(f_integral,(t,Tmin,Tmax))\n",
    "print(\"bn = \")\n",
    "bn = sym.simplify(bn)\n",
    "sym.pprint(bn)"
   ]
  },
  {
   "cell_type": "code",
   "execution_count": 8,
   "metadata": {},
   "outputs": [
    {
     "name": "stdout",
     "output_type": "stream",
     "text": [
      "f(t)= \n",
      "-2.0⋅sin(1.0⋅t) - 1.0⋅sin(2.0⋅t) - 0.666666666666667⋅sin(3.0⋅t) + 3.1415926535\n",
      "8979\n"
     ]
    }
   ],
   "source": [
    "# Definimos el número de armónicos para la expansión\n",
    "serie = 0\n",
    "Armonicos = 3\n",
    "\n",
    "for i in range(1,Armonicos+1):\n",
    "    \n",
    "    # Evaluamos los coeficientes para cada armónico\n",
    "    an_c = an.subs(n,i)\n",
    "    bn_c = bn.subs(n,i)\n",
    "    \n",
    "    if abs(an_c) < 0.0001: an_c = 0\n",
    "    if abs(bn_c) < 0.0001: bn_c = 0\n",
    "        \n",
    "    serie= serie + an_c*sym.cos(i*w*t) # Términos coseno de la serie\n",
    "    serie = serie + bn_c*sym.sin(i*w*t) # Términos seno de la serie\n",
    "\n",
    "serie = a0/2+serie  # Expansión final de la serie\n",
    "\n",
    "print('f(t)= ')\n",
    "sym.pprint(serie)"
   ]
  },
  {
   "cell_type": "code",
   "execution_count": 9,
   "metadata": {},
   "outputs": [
    {
     "data": {
      "image/png": "[encoded data removed]",
      "text/plain": [
       "<Figure size 432x288 with 1 Axes>"
      ]
     },
     "metadata": {
      "needs_background": "light"
     },
     "output_type": "display_data"
    }
   ],
   "source": [
    "# Convertimos la expresión Sympy a una función evaluable\n",
    "fserie = sym.lambdify(t,serie)\n",
    "f = sym.lambdify(t,ft)\n",
    "\n",
    "# Creamos un vector de tiempo para la gráfica\n",
    "v_tiempo = np.linspace(Tmin,Tmax,200)\n",
    "\n",
    "# Evaluamos las funciones\n",
    "fserieG = fserie(v_tiempo)\n",
    "fG = f(v_tiempo)\n",
    " \n",
    "plt.plot(v_tiempo,fG,label = 'f(t)')\n",
    "plt.plot(v_tiempo,fserieG,label = 'Expansión')\n",
    "\n",
    "plt.xlabel('tiempo')\n",
    "plt.legend()\n",
    "plt.title('Expansión en Series de Fourier')\n",
    "plt.show()"
   ]
  },
  {
   "cell_type": "code",
   "execution_count": 10,
   "metadata": {},
   "outputs": [],
   "source": [
    "n = sym.Symbol('n')\n",
    "t=sym.Symbol('t')"
   ]
  },
  {
   "cell_type": "code",
   "execution_count": 11,
   "metadata": {},
   "outputs": [
    {
     "data": {
      "text/latex": [
       "$\\displaystyle \\begin{cases} -1 & \\text{for}\\: t \\geq -2 \\wedge t \\leq -1 \\\\1 & \\text{for}\\: t \\leq 2 \\wedge t > -1 \\end{cases}$"
      ],
      "text/plain": [
       "Piecewise((-1, (t >= -2) & (t <= -1)), (1, (t <= 2) & (t > -1)))"
      ]
     },
     "execution_count": 11,
     "metadata": {},
     "output_type": "execute_result"
    }
   ],
   "source": [
    "Tmin = -2\n",
    "Tmax = 2\n",
    "\n",
    "T=Tmax-Tmin\n",
    "w = 2*np.pi/T\n",
    "\n",
    "f1=-1\n",
    "f2=1\n",
    "\n",
    "# ft es una función simbólica por tramos\n",
    "ft = sym.Piecewise((f1, ((t <= -1) & (t >= -2))), (f2, ((t > -1) & (t <= 2))))\n",
    "ft"
   ]
  },
  {
   "cell_type": "code",
   "execution_count": 13,
   "metadata": {},
   "outputs": [
    {
     "name": "stdout",
     "output_type": "stream",
     "text": [
      "a0 = \n",
      "1.00000000000000\n",
      "an = \n",
      "⎧0.636619772367581⋅sin(1.5707963267949⋅n)           \n",
      "⎪────────────────────────────────────────  for n ≠ 0\n",
      "⎨                   n                               \n",
      "⎪                                                   \n",
      "⎩                  1.0                     otherwise\n",
      "bn = \n",
      "⎧0.636619772367581⋅(cos(1.5707963267949⋅n) - cos(3.14159265358979⋅n))         \n",
      "⎪────────────────────────────────────────────────────────────────────  for n ≠\n",
      "⎨                                 n                                           \n",
      "⎪                                                                             \n",
      "⎩                                 0                                    otherwi\n",
      "\n",
      "  \n",
      " 0\n",
      "  \n",
      "  \n",
      "se\n"
     ]
    }
   ],
   "source": [
    "# Calculamos la integral para a0\n",
    "f_integral = ft\n",
    "a0 = (2/T)*sym.integrate(f_integral,(t,Tmin,Tmax))\n",
    "print(\"a0 = \")\n",
    "sym.pprint(a0)\n",
    "\n",
    "# Calculamos la integral para an\n",
    "f_integral = ft*sym.cos(n*w*t)\n",
    "an = (2/T)*sym.integrate(f_integral,(t,Tmin,Tmax))\n",
    "an = sym.simplify(an)\n",
    "print(\"an = \")\n",
    "sym.pprint(an)\n",
    "\n",
    "# Calculamos la integral para bn\n",
    "f_integral = ft*sym.sin(n*w*t)\n",
    "bn = (2/T)*sym.integrate(f_integral,(t,Tmin,Tmax))\n",
    "print(\"bn = \")\n",
    "bn = sym.simplify(bn)\n",
    "sym.pprint(bn)"
   ]
  },
  {
   "cell_type": "code",
   "execution_count": 14,
   "metadata": {},
   "outputs": [
    {
     "name": "stdout",
     "output_type": "stream",
     "text": [
      "f(t)= \n",
      "0.636619772367581⋅sin(1.5707963267949⋅t) - 0.636619772367581⋅sin(3.14159265358\n",
      "979⋅t) + 0.212206590789194⋅sin(4.71238898038469⋅t) + 0.127323954473516⋅sin(7.8\n",
      "5398163397448⋅t) - 0.212206590789194⋅sin(9.42477796076938⋅t) + 0.0909456817667\n",
      "973⋅sin(10.9955742875643⋅t) + 0.0707355302630646⋅sin(14.1371669411541⋅t) - 0.1\n",
      "27323954473516⋅sin(15.707963267949⋅t) + 0.0578745247606891⋅sin(17.278759594743\n",
      "9⋅t) + 0.0489707517205831⋅sin(20.4203522483337⋅t) - 0.0909456817667973⋅sin(21.\n",
      "9911485751286⋅t) + 0.0424413181578387⋅sin(23.5619449019234⋅t) + 0.037448221903\n",
      "9753⋅sin(26.7035375555132⋅t) - 0.0707355302630646⋅sin(28.2743338823081⋅t) + 0.\n",
      "03350630380882⋅sin(29.845130209103⋅t) + 0.0303152272555991⋅sin(32.986722862692\n",
      "8⋅t) - 0.0578745247606892⋅sin(34.5575191894877⋅t) + 0.0276791205377208⋅sin(36.\n",
      "1283155162826⋅t) + 0.0254647908947033⋅sin(39.2699081698724⋅t) - 0.048970751720\n",
      "5832⋅sin(40.8407044966673⋅t) + 0.0235785100876881⋅sin(42.4115008234622⋅t) + 0.\n",
      "0219524059437097⋅sin(45.553093477052⋅t) - 0.0424413181578388⋅sin(47.1238898038\n",
      "469⋅t) + 0.636619772367581⋅cos(1.5707963267949⋅t) - 0.212206590789194⋅cos(4.71\n",
      "238898038469⋅t) + 0.127323954473516⋅cos(7.85398163397448⋅t) - 0.09094568176679\n",
      "73⋅cos(10.9955742875643⋅t) + 0.0707355302630646⋅cos(14.1371669411541⋅t) - 0.05\n",
      "78745247606892⋅cos(17.2787595947439⋅t) + 0.0489707517205832⋅cos(20.42035224833\n",
      "37⋅t) - 0.0424413181578388⋅cos(23.5619449019234⋅t) + 0.0374482219039754⋅cos(26\n",
      ".7035375555132⋅t) - 0.0335063038088201⋅cos(29.845130209103⋅t) + 0.030315227255\n",
      "5991⋅cos(32.9867228626928⋅t) - 0.0276791205377209⋅cos(36.1283155162826⋅t) + 0.\n",
      "0254647908947033⋅cos(39.2699081698724⋅t) - 0.0235785100876882⋅cos(42.411500823\n",
      "4622⋅t) + 0.0219524059437097⋅cos(45.553093477052⋅t) + 0.5\n"
     ]
    }
   ],
   "source": [
    "# Definimos el número de armónicos para la expansión\n",
    "serie = 0\n",
    "Armonicos = 30\n",
    "\n",
    "for i in range(1,Armonicos+1):\n",
    "    \n",
    "    # Evaluamos los coeficientes para cada armónico\n",
    "    an_c = an.subs(n,i)\n",
    "    bn_c = bn.subs(n,i)\n",
    "    \n",
    "    if abs(an_c) < 0.0001: an_c = 0\n",
    "    if abs(bn_c) < 0.0001: bn_c = 0\n",
    "        \n",
    "    serie= serie + an_c*sym.cos(i*w*t) # Términos coseno de la serie\n",
    "    serie = serie + bn_c*sym.sin(i*w*t) # Términos seno de la serie\n",
    "\n",
    "serie = a0/2+serie  # Expansión final de la serie\n",
    "\n",
    "print('f(t)= ')\n",
    "sym.pprint(serie)"
   ]
  },
  {
   "cell_type": "code",
   "execution_count": 15,
   "metadata": {},
   "outputs": [
    {
     "data": {
      "image/png": "[encoded data removed]",
      "text/plain": [
       "<Figure size 432x288 with 1 Axes>"
      ]
     },
     "metadata": {
      "needs_background": "light"
     },
     "output_type": "display_data"
    }
   ],
   "source": [
    "# Convertimos la expresión Sympy a una función evaluable\n",
    "fserie = sym.lambdify(t,serie)\n",
    "f = sym.lambdify(t,ft)\n",
    "\n",
    "# Creamos un vector de tiempo para la gráfica\n",
    "v_tiempo = np.linspace(Tmin,Tmax,200)\n",
    "\n",
    "# Evaluamos las funciones\n",
    "fserieG = fserie(v_tiempo)\n",
    "fG = f(v_tiempo)\n",
    " \n",
    "plt.plot(v_tiempo,fG,label = 'f(t)')\n",
    "plt.plot(v_tiempo,fserieG,label = 'Expansión')\n",
    "\n",
    "plt.xlabel('tiempo')\n",
    "plt.legend()\n",
    "plt.title('Expansión en Series de Fourier')\n",
    "plt.show()"
   ]
  },
  {
   "cell_type": "code",
   "execution_count": null,
   "metadata": {},
   "outputs": [],
   "source": []
  }
 ],
 "metadata": {
  "kernelspec": {
   "display_name": "Python 3",
   "language": "python",
   "name": "python3"
  },
  "language_info": {
   "codemirror_mode": {
    "name": "ipython",
    "version": 3
   },
   "file_extension": ".py",
   "mimetype": "text/x-python",
   "name": "python",
   "nbconvert_exporter": "python",
   "pygments_lexer": "ipython3",
   "version": "3.7.3"
  }
 },
 "nbformat": 4,
 "nbformat_minor": 2
}
